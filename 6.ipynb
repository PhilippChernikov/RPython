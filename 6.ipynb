{
 "cells": [
  {
   "cell_type": "code",
   "execution_count": null,
   "metadata": {},
   "outputs": [],
   "source": [
    "def gcd (a, b):\n",
    "  if (b == 0):\n",
    "    return a\n",
    "  else:\n",
    "    return gcd (b, a % b)\n",
    "\n",
    "print(gcd(int(input()), int(input())))\n",
    "\n"
   ]
  },
  {
   "cell_type": "code",
   "execution_count": null,
   "metadata": {},
   "outputs": [],
   "source": [
    "def prime (a:'int'):\n",
    "    for i in range(2, round(a**0.5)):\n",
    "        if a % i == 0:\n",
    "            return False\n",
    "    return True\n",
    "print(prime(int(input())))\n",
    "\n",
    "import functools\n",
    "@functools.lru_cache()\n",
    "def prime_cache (a:'int'):\n",
    "    for i in range(2, round(a**0.5)):\n",
    "        if a % i == 0:\n",
    "            return False\n",
    "    return True\n",
    "print(prime_cache(int(input())))"
   ]
  },
  {
   "cell_type": "code",
   "execution_count": null,
   "metadata": {},
   "outputs": [],
   "source": [
    "def Amine (x , b): \n",
    "    k = ''\n",
    "    while x != 0:\n",
    "        if x % b < 10:\n",
    "            k = chr(ord('0') + x % b) + k\n",
    "        else:\n",
    "            k = chr(ord('A') + x % b - 10) + k\n",
    "        x = x // b    \n",
    "    return k\n",
    "print(Amine(int(input()), int(input())))\n",
    "    \n",
    "           "
   ]
  },
  {
   "cell_type": "code",
   "execution_count": null,
   "metadata": {},
   "outputs": [],
   "source": [
    "def egcd(a, b):\n",
    "    if b == 0:\n",
    "        return (1, 0, a)\n",
    "    else:\n",
    "        (x, y, d) = egcd(b, a % b)\n",
    "        return (y, x - (a // b) * y, d)\n",
    "print(egcd(int(input()), int(input())))"
   ]
  }
 ],
 "metadata": {
  "kernelspec": {
   "display_name": "Python 3",
   "language": "python",
   "name": "python3"
  },
  "language_info": {
   "codemirror_mode": {
    "name": "ipython",
    "version": 3
   },
   "file_extension": ".py",
   "mimetype": "text/x-python",
   "name": "python",
   "nbconvert_exporter": "python",
   "pygments_lexer": "ipython3",
   "version": "3.7.0"
  }
 },
 "nbformat": 4,
 "nbformat_minor": 2
}
