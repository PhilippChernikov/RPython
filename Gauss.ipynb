{
 "cells": [
  {
   "cell_type": "code",
   "execution_count": null,
   "metadata": {},
   "outputs": [],
   "source": [
    "import copy\n",
    "def gauss(a, b):\n",
    "    a = copy.deepcopy(a) \n",
    "    b = b.copy()\n",
    "    N = len(a)\n",
    "    def forward():\n",
    "       \n",
    "        for x in range(N):\n",
    "            for i in range(x+1, N):\n",
    "                cof = a[i][x]/a[x][x]\n",
    "                for k in range(x, N):\n",
    "                    a[i][k] = a[i][k] - cof*a[x][k]\n",
    "                b[i]=b[i]-b[x]*cof \n",
    "         \n",
    "      \n",
    "                \n",
    "               \n",
    "   \n",
    "\n",
    "    def backward():\n",
    "        x = [0] * N\n",
    "        x[N-1] = b[N-1]/a[N-1][N-1]\n",
    "        for i in range(N-2, -1, -1):\n",
    "            sum = 0\n",
    "            for j in range(i+1, N):\n",
    "                sum = sum + a[i][j]*x[j]\n",
    "            x[i] = (b[i] - sum)/a[i][i]\n",
    "            \n",
    "            \n",
    "         \n",
    "        return x\n",
    "\n",
    "    forward()\n",
    "    #print(a)\n",
    "    #print(b)\n",
    "    return backward()\n",
    "\n",
    "a = [\n",
    "    [1,2,1],\n",
    "    [3,2,3],\n",
    "    [1,0,0]\n",
    "]\n",
    "\n",
    "b = [5,6,7]\n",
    "\n",
    "print(gauss(a, b))"
   ]
  }
 ],
 "metadata": {
  "kernelspec": {
   "display_name": "Python 3",
   "language": "python",
   "name": "python3"
  },
  "language_info": {
   "codemirror_mode": {
    "name": "ipython",
    "version": 3
   },
   "file_extension": ".py",
   "mimetype": "text/x-python",
   "name": "python",
   "nbconvert_exporter": "python",
   "pygments_lexer": "ipython3",
   "version": "3.7.0"
  }
 },
 "nbformat": 4,
 "nbformat_minor": 2
}
