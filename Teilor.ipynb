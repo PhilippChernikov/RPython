{
 "cells": [
  {
   "cell_type": "code",
   "execution_count": 1,
   "metadata": {
    "scrolled": true
   },
   "outputs": [
    {
     "name": "stdout",
     "output_type": "stream",
     "text": [
      "Help on built-in function exp in module math:\n",
      "\n",
      "exp(x, /)\n",
      "    Return e raised to the power of x.\n",
      "\n",
      "None 2.718281828459045\n",
      "Help on function my_exp in module __main__:\n",
      "\n",
      "my_exp(x)\n",
      "    Вычисление \"экспоненты\" при помощи частичного суммирования ряда Тейлора\n",
      "\n",
      "None 2.7182818284590455\n"
     ]
    }
   ],
   "source": [
    "import math\n",
    "\n",
    "iterations = 20\n",
    "\n",
    "def my_exp(x):\n",
    "    \"\"\"Вычисление \"экспоненты\" при помощи частичного суммирования ряда Тейлора\"\"\"\n",
    "    x_pow = x\n",
    "    multiplier = 1\n",
    "    partial_sum = x\n",
    "    for n in range(1, iterations):\n",
    "        x_pow *= x \n",
    "        multiplier *= 1 / (n) \n",
    "        partial_sum += x_pow * multiplier\n",
    "    \n",
    "    return partial_sum\n",
    "\n",
    "print(help(math.exp), math.exp(1))\n",
    "print(help(my_exp), my_exp(1))\n"
   ]
  },
  {
   "cell_type": "code",
   "execution_count": 11,
   "metadata": {},
   "outputs": [
    {
     "name": "stdout",
     "output_type": "stream",
     "text": [
      "IPython will make a temporary file named: C:\\Users\\HomePC\\AppData\\Local\\Temp\\ipython_edit_41q_h0il\\ipython_edit_ybgxr93u.py\n"
     ]
    }
   ],
   "source": [
    "%ed 6\n"
   ]
  },
  {
   "cell_type": "code",
   "execution_count": null,
   "metadata": {},
   "outputs": [],
   "source": []
  }
 ],
 "metadata": {
  "kernelspec": {
   "display_name": "Python 3",
   "language": "python",
   "name": "python3"
  },
  "language_info": {
   "codemirror_mode": {
    "name": "ipython",
    "version": 3
   },
   "file_extension": ".py",
   "mimetype": "text/x-python",
   "name": "python",
   "nbconvert_exporter": "python",
   "pygments_lexer": "ipython3",
   "version": "3.7.0"
  }
 },
 "nbformat": 4,
 "nbformat_minor": 2
}
